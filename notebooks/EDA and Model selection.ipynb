{
 "cells": [
  {
   "cell_type": "code",
   "execution_count": 1,
   "metadata": {},
   "outputs": [],
   "source": [
    "import pandas as pd\n",
    "import numpy as np\n",
    "import re\n",
    "import string\n",
    "import seaborn as sns\n",
    "import matplotlib.pyplot as plt\n",
    "import pickle\n",
    "\n",
    "from io import StringIO\n",
    "from sklearn import metrics\n",
    "from sklearn.preprocessing import LabelEncoder\n",
    "from sklearn import preprocessing\n",
    "from sklearn.linear_model import LogisticRegression\n",
    "from sklearn.ensemble import RandomForestClassifier\n",
    "from sklearn.naive_bayes import MultinomialNB\n",
    "from sklearn.svm import LinearSVC\n",
    "from sklearn.model_selection import cross_val_score\n",
    "from sklearn.model_selection import train_test_split\n",
    "from sklearn.feature_extraction.text import CountVectorizer\n",
    "from sklearn.feature_extraction.text import TfidfTransformer\n",
    "from sklearn.feature_extraction.text import TfidfVectorizer\n",
    "from sklearn.naive_bayes import MultinomialNB\n",
    "from sklearn.metrics import confusion_matrix\n",
    "from sklearn import metrics\n",
    "from sklearn.feature_selection import chi2\n"
   ]
  },
  {
   "cell_type": "code",
   "execution_count": 2,
   "metadata": {},
   "outputs": [],
   "source": [
    "#Read the data\n",
    "df = pd.read_csv('../input/testset_C.csv',sep=';')"
   ]
  },
  {
   "cell_type": "code",
   "execution_count": 3,
   "metadata": {},
   "outputs": [
    {
     "data": {
      "text/html": [
       "<div>\n",
       "<style scoped>\n",
       "    .dataframe tbody tr th:only-of-type {\n",
       "        vertical-align: middle;\n",
       "    }\n",
       "\n",
       "    .dataframe tbody tr th {\n",
       "        vertical-align: top;\n",
       "    }\n",
       "\n",
       "    .dataframe thead th {\n",
       "        text-align: right;\n",
       "    }\n",
       "</style>\n",
       "<table border=\"1\" class=\"dataframe\">\n",
       "  <thead>\n",
       "    <tr style=\"text-align: right;\">\n",
       "      <th></th>\n",
       "      <th>id</th>\n",
       "      <th>productgroup</th>\n",
       "      <th>main_text</th>\n",
       "      <th>add_text</th>\n",
       "      <th>manufacturer</th>\n",
       "    </tr>\n",
       "  </thead>\n",
       "  <tbody>\n",
       "    <tr>\n",
       "      <th>0</th>\n",
       "      <td>26229701</td>\n",
       "      <td>WASHINGMACHINES</td>\n",
       "      <td>WAQ284E25</td>\n",
       "      <td>WASCHMASCHINEN</td>\n",
       "      <td>BOSCH</td>\n",
       "    </tr>\n",
       "    <tr>\n",
       "      <th>1</th>\n",
       "      <td>16576864</td>\n",
       "      <td>USB MEMORY</td>\n",
       "      <td>LEEF IBRIDGE MOBILE SPEICHERERWEITERUNG FUER I...</td>\n",
       "      <td>PC__1100COMPUTINGMEMORY__1110MEMORYCARDS</td>\n",
       "      <td>LEEF</td>\n",
       "    </tr>\n",
       "    <tr>\n",
       "      <th>2</th>\n",
       "      <td>26155618</td>\n",
       "      <td>USB MEMORY</td>\n",
       "      <td>SANDISK 32GB ULTRA FIT USB 3.0</td>\n",
       "      <td>W1370</td>\n",
       "      <td>NaN</td>\n",
       "    </tr>\n",
       "    <tr>\n",
       "      <th>3</th>\n",
       "      <td>25646138</td>\n",
       "      <td>BICYCLES</td>\n",
       "      <td>HOLLANDRAD DAMEN 28 ZOLL TUSSAUD 3-GAENGE RH 5...</td>\n",
       "      <td>FAHRRAEDER // SPORTFAHRRAEDER</td>\n",
       "      <td>SCHALOW &amp; KROH GMBH</td>\n",
       "    </tr>\n",
       "    <tr>\n",
       "      <th>4</th>\n",
       "      <td>19764614</td>\n",
       "      <td>BICYCLES</td>\n",
       "      <td>DAHON SPEED D7 SCHWARZ ? FALTRAD</td>\n",
       "      <td>SPORTS__30000WHEELED__30070BIKES</td>\n",
       "      <td>DAHON</td>\n",
       "    </tr>\n",
       "  </tbody>\n",
       "</table>\n",
       "</div>"
      ],
      "text/plain": [
       "         id     productgroup  \\\n",
       "0  26229701  WASHINGMACHINES   \n",
       "1  16576864       USB MEMORY   \n",
       "2  26155618       USB MEMORY   \n",
       "3  25646138         BICYCLES   \n",
       "4  19764614         BICYCLES   \n",
       "\n",
       "                                           main_text  \\\n",
       "0                                          WAQ284E25   \n",
       "1  LEEF IBRIDGE MOBILE SPEICHERERWEITERUNG FUER I...   \n",
       "2                     SANDISK 32GB ULTRA FIT USB 3.0   \n",
       "3  HOLLANDRAD DAMEN 28 ZOLL TUSSAUD 3-GAENGE RH 5...   \n",
       "4                   DAHON SPEED D7 SCHWARZ ? FALTRAD   \n",
       "\n",
       "                                   add_text         manufacturer  \n",
       "0                            WASCHMASCHINEN                BOSCH  \n",
       "1  PC__1100COMPUTINGMEMORY__1110MEMORYCARDS                 LEEF  \n",
       "2                                     W1370                  NaN  \n",
       "3             FAHRRAEDER // SPORTFAHRRAEDER  SCHALOW & KROH GMBH  \n",
       "4          SPORTS__30000WHEELED__30070BIKES                DAHON  "
      ]
     },
     "execution_count": 3,
     "metadata": {},
     "output_type": "execute_result"
    }
   ],
   "source": [
    "df.head()"
   ]
  },
  {
   "cell_type": "code",
   "execution_count": 4,
   "metadata": {},
   "outputs": [
    {
     "data": {
      "text/plain": [
       "(8000, 5)"
      ]
     },
     "execution_count": 4,
     "metadata": {},
     "output_type": "execute_result"
    }
   ],
   "source": [
    "df.shape"
   ]
  },
  {
   "cell_type": "code",
   "execution_count": 5,
   "metadata": {},
   "outputs": [
    {
     "name": "stdout",
     "output_type": "stream",
     "text": [
      "<class 'pandas.core.frame.DataFrame'>\n",
      "RangeIndex: 8000 entries, 0 to 7999\n",
      "Data columns (total 5 columns):\n",
      " #   Column        Non-Null Count  Dtype \n",
      "---  ------        --------------  ----- \n",
      " 0   id            8000 non-null   int64 \n",
      " 1   productgroup  8000 non-null   object\n",
      " 2   main_text     7998 non-null   object\n",
      " 3   add_text      8000 non-null   object\n",
      " 4   manufacturer  6656 non-null   object\n",
      "dtypes: int64(1), object(4)\n",
      "memory usage: 312.6+ KB\n"
     ]
    }
   ],
   "source": [
    "df.info()"
   ]
  },
  {
   "cell_type": "code",
   "execution_count": 6,
   "metadata": {},
   "outputs": [
    {
     "data": {
      "text/html": [
       "<div>\n",
       "<style scoped>\n",
       "    .dataframe tbody tr th:only-of-type {\n",
       "        vertical-align: middle;\n",
       "    }\n",
       "\n",
       "    .dataframe tbody tr th {\n",
       "        vertical-align: top;\n",
       "    }\n",
       "\n",
       "    .dataframe thead th {\n",
       "        text-align: right;\n",
       "    }\n",
       "</style>\n",
       "<table border=\"1\" class=\"dataframe\">\n",
       "  <thead>\n",
       "    <tr style=\"text-align: right;\">\n",
       "      <th></th>\n",
       "      <th>id</th>\n",
       "    </tr>\n",
       "  </thead>\n",
       "  <tbody>\n",
       "    <tr>\n",
       "      <th>count</th>\n",
       "      <td>8.000000e+03</td>\n",
       "    </tr>\n",
       "    <tr>\n",
       "      <th>mean</th>\n",
       "      <td>4.580199e+07</td>\n",
       "    </tr>\n",
       "    <tr>\n",
       "      <th>std</th>\n",
       "      <td>1.792129e+07</td>\n",
       "    </tr>\n",
       "    <tr>\n",
       "      <th>min</th>\n",
       "      <td>1.616272e+07</td>\n",
       "    </tr>\n",
       "    <tr>\n",
       "      <th>25%</th>\n",
       "      <td>2.655606e+07</td>\n",
       "    </tr>\n",
       "    <tr>\n",
       "      <th>50%</th>\n",
       "      <td>4.233084e+07</td>\n",
       "    </tr>\n",
       "    <tr>\n",
       "      <th>75%</th>\n",
       "      <td>6.223001e+07</td>\n",
       "    </tr>\n",
       "    <tr>\n",
       "      <th>max</th>\n",
       "      <td>7.773226e+07</td>\n",
       "    </tr>\n",
       "  </tbody>\n",
       "</table>\n",
       "</div>"
      ],
      "text/plain": [
       "                 id\n",
       "count  8.000000e+03\n",
       "mean   4.580199e+07\n",
       "std    1.792129e+07\n",
       "min    1.616272e+07\n",
       "25%    2.655606e+07\n",
       "50%    4.233084e+07\n",
       "75%    6.223001e+07\n",
       "max    7.773226e+07"
      ]
     },
     "execution_count": 6,
     "metadata": {},
     "output_type": "execute_result"
    }
   ],
   "source": [
    "df.describe()"
   ]
  },
  {
   "cell_type": "markdown",
   "metadata": {},
   "source": [
    "#### Converting the product group to a dictionary mapping"
   ]
  },
  {
   "cell_type": "code",
   "execution_count": 7,
   "metadata": {},
   "outputs": [],
   "source": [
    "df['product_id'] = df['productgroup'].factorize()[0]\n",
    "category_id_df = df[['productgroup', 'product_id']].drop_duplicates().sort_values('product_id')\n",
    "category_to_id = dict(category_id_df.values)\n",
    "id_to_category = dict(category_id_df[['product_id', 'productgroup']].values)"
   ]
  },
  {
   "cell_type": "code",
   "execution_count": 8,
   "metadata": {},
   "outputs": [
    {
     "data": {
      "text/plain": [
       "{0: 'WASHINGMACHINES', 1: 'USB MEMORY', 2: 'BICYCLES', 3: 'CONTACT LENSES'}"
      ]
     },
     "execution_count": 8,
     "metadata": {},
     "output_type": "execute_result"
    }
   ],
   "source": [
    "id_to_category"
   ]
  },
  {
   "cell_type": "code",
   "execution_count": 9,
   "metadata": {},
   "outputs": [
    {
     "data": {
      "text/html": [
       "<div>\n",
       "<style scoped>\n",
       "    .dataframe tbody tr th:only-of-type {\n",
       "        vertical-align: middle;\n",
       "    }\n",
       "\n",
       "    .dataframe tbody tr th {\n",
       "        vertical-align: top;\n",
       "    }\n",
       "\n",
       "    .dataframe thead th {\n",
       "        text-align: right;\n",
       "    }\n",
       "</style>\n",
       "<table border=\"1\" class=\"dataframe\">\n",
       "  <thead>\n",
       "    <tr style=\"text-align: right;\">\n",
       "      <th></th>\n",
       "      <th>id</th>\n",
       "      <th>productgroup</th>\n",
       "      <th>main_text</th>\n",
       "      <th>add_text</th>\n",
       "      <th>manufacturer</th>\n",
       "      <th>product_id</th>\n",
       "    </tr>\n",
       "  </thead>\n",
       "  <tbody>\n",
       "    <tr>\n",
       "      <th>0</th>\n",
       "      <td>26229701</td>\n",
       "      <td>WASHINGMACHINES</td>\n",
       "      <td>WAQ284E25</td>\n",
       "      <td>WASCHMASCHINEN</td>\n",
       "      <td>BOSCH</td>\n",
       "      <td>0</td>\n",
       "    </tr>\n",
       "    <tr>\n",
       "      <th>1</th>\n",
       "      <td>16576864</td>\n",
       "      <td>USB MEMORY</td>\n",
       "      <td>LEEF IBRIDGE MOBILE SPEICHERERWEITERUNG FUER I...</td>\n",
       "      <td>PC__1100COMPUTINGMEMORY__1110MEMORYCARDS</td>\n",
       "      <td>LEEF</td>\n",
       "      <td>1</td>\n",
       "    </tr>\n",
       "    <tr>\n",
       "      <th>2</th>\n",
       "      <td>26155618</td>\n",
       "      <td>USB MEMORY</td>\n",
       "      <td>SANDISK 32GB ULTRA FIT USB 3.0</td>\n",
       "      <td>W1370</td>\n",
       "      <td>NaN</td>\n",
       "      <td>1</td>\n",
       "    </tr>\n",
       "    <tr>\n",
       "      <th>3</th>\n",
       "      <td>25646138</td>\n",
       "      <td>BICYCLES</td>\n",
       "      <td>HOLLANDRAD DAMEN 28 ZOLL TUSSAUD 3-GAENGE RH 5...</td>\n",
       "      <td>FAHRRAEDER // SPORTFAHRRAEDER</td>\n",
       "      <td>SCHALOW &amp; KROH GMBH</td>\n",
       "      <td>2</td>\n",
       "    </tr>\n",
       "    <tr>\n",
       "      <th>4</th>\n",
       "      <td>19764614</td>\n",
       "      <td>BICYCLES</td>\n",
       "      <td>DAHON SPEED D7 SCHWARZ ? FALTRAD</td>\n",
       "      <td>SPORTS__30000WHEELED__30070BIKES</td>\n",
       "      <td>DAHON</td>\n",
       "      <td>2</td>\n",
       "    </tr>\n",
       "  </tbody>\n",
       "</table>\n",
       "</div>"
      ],
      "text/plain": [
       "         id     productgroup  \\\n",
       "0  26229701  WASHINGMACHINES   \n",
       "1  16576864       USB MEMORY   \n",
       "2  26155618       USB MEMORY   \n",
       "3  25646138         BICYCLES   \n",
       "4  19764614         BICYCLES   \n",
       "\n",
       "                                           main_text  \\\n",
       "0                                          WAQ284E25   \n",
       "1  LEEF IBRIDGE MOBILE SPEICHERERWEITERUNG FUER I...   \n",
       "2                     SANDISK 32GB ULTRA FIT USB 3.0   \n",
       "3  HOLLANDRAD DAMEN 28 ZOLL TUSSAUD 3-GAENGE RH 5...   \n",
       "4                   DAHON SPEED D7 SCHWARZ ? FALTRAD   \n",
       "\n",
       "                                   add_text         manufacturer  product_id  \n",
       "0                            WASCHMASCHINEN                BOSCH           0  \n",
       "1  PC__1100COMPUTINGMEMORY__1110MEMORYCARDS                 LEEF           1  \n",
       "2                                     W1370                  NaN           1  \n",
       "3             FAHRRAEDER // SPORTFAHRRAEDER  SCHALOW & KROH GMBH           2  \n",
       "4          SPORTS__30000WHEELED__30070BIKES                DAHON           2  "
      ]
     },
     "execution_count": 9,
     "metadata": {},
     "output_type": "execute_result"
    }
   ],
   "source": [
    "df.head()"
   ]
  },
  {
   "cell_type": "code",
   "execution_count": 10,
   "metadata": {
    "scrolled": true
   },
   "outputs": [
    {
     "data": {
      "text/html": [
       "<div>\n",
       "<style scoped>\n",
       "    .dataframe tbody tr th:only-of-type {\n",
       "        vertical-align: middle;\n",
       "    }\n",
       "\n",
       "    .dataframe tbody tr th {\n",
       "        vertical-align: top;\n",
       "    }\n",
       "\n",
       "    .dataframe thead th {\n",
       "        text-align: right;\n",
       "    }\n",
       "</style>\n",
       "<table border=\"1\" class=\"dataframe\">\n",
       "  <thead>\n",
       "    <tr style=\"text-align: right;\">\n",
       "      <th></th>\n",
       "      <th>id</th>\n",
       "      <th>productgroup</th>\n",
       "      <th>main_text</th>\n",
       "      <th>add_text</th>\n",
       "      <th>manufacturer</th>\n",
       "      <th>product_id</th>\n",
       "    </tr>\n",
       "  </thead>\n",
       "  <tbody>\n",
       "    <tr>\n",
       "      <th>1</th>\n",
       "      <td>16576864</td>\n",
       "      <td>USB MEMORY</td>\n",
       "      <td>LEEF IBRIDGE MOBILE SPEICHERERWEITERUNG FUER I...</td>\n",
       "      <td>PC__1100COMPUTINGMEMORY__1110MEMORYCARDS</td>\n",
       "      <td>LEEF</td>\n",
       "      <td>1</td>\n",
       "    </tr>\n",
       "    <tr>\n",
       "      <th>2</th>\n",
       "      <td>26155618</td>\n",
       "      <td>USB MEMORY</td>\n",
       "      <td>SANDISK 32GB ULTRA FIT USB 3.0</td>\n",
       "      <td>W1370</td>\n",
       "      <td>NaN</td>\n",
       "      <td>1</td>\n",
       "    </tr>\n",
       "    <tr>\n",
       "      <th>5</th>\n",
       "      <td>64836708</td>\n",
       "      <td>USB MEMORY</td>\n",
       "      <td>PNY 16GB LEGO USB FLASH DRIVE + LEGO BRIC</td>\n",
       "      <td>COMPONENT __ MEMORY</td>\n",
       "      <td>PNY</td>\n",
       "      <td>1</td>\n",
       "    </tr>\n",
       "    <tr>\n",
       "      <th>10</th>\n",
       "      <td>66928405</td>\n",
       "      <td>USB MEMORY</td>\n",
       "      <td>615634  FLASHPEN LAETA USB 2.0 8 GB 10MB FLASH...</td>\n",
       "      <td>410107__HARTWAREN_MULTIMEDIA_OSS_FESTPLATTEN S...</td>\n",
       "      <td>NaN</td>\n",
       "      <td>1</td>\n",
       "    </tr>\n",
       "    <tr>\n",
       "      <th>15</th>\n",
       "      <td>48577002</td>\n",
       "      <td>USB MEMORY</td>\n",
       "      <td>VERBATIM STORE 'N' GO V3 16GB USB 3.0 STICK</td>\n",
       "      <td>USB-STICKS</td>\n",
       "      <td>VERBATIM</td>\n",
       "      <td>1</td>\n",
       "    </tr>\n",
       "    <tr>\n",
       "      <th>...</th>\n",
       "      <td>...</td>\n",
       "      <td>...</td>\n",
       "      <td>...</td>\n",
       "      <td>...</td>\n",
       "      <td>...</td>\n",
       "      <td>...</td>\n",
       "    </tr>\n",
       "    <tr>\n",
       "      <th>7974</th>\n",
       "      <td>23773547</td>\n",
       "      <td>USB MEMORY</td>\n",
       "      <td>0 USB-DRIVE 2.0 4GB BASIC LINE</td>\n",
       "      <td>3007</td>\n",
       "      <td>INTENSO</td>\n",
       "      <td>1</td>\n",
       "    </tr>\n",
       "    <tr>\n",
       "      <th>7979</th>\n",
       "      <td>66041697</td>\n",
       "      <td>USB MEMORY</td>\n",
       "      <td>TREKSTOR USB-STICK CS 32GB SILVER WRITE PROTEC...</td>\n",
       "      <td>MULTIMEDIA/IT__0310 NOTEBOOKS/PC &amp; PERIPHERIE_...</td>\n",
       "      <td>TREKSTOR</td>\n",
       "      <td>1</td>\n",
       "    </tr>\n",
       "    <tr>\n",
       "      <th>7980</th>\n",
       "      <td>68200476</td>\n",
       "      <td>USB MEMORY</td>\n",
       "      <td>FLASHDRIVE SANDISK CRUZER BLADE 32GB USB2 SPEE...</td>\n",
       "      <td>39404_PAMIECI USB</td>\n",
       "      <td>SANDISK</td>\n",
       "      <td>1</td>\n",
       "    </tr>\n",
       "    <tr>\n",
       "      <th>7985</th>\n",
       "      <td>23670982</td>\n",
       "      <td>USB MEMORY</td>\n",
       "      <td>STORE N STAY NANO USB 3.0 DRIV USB-STICK 3.0, ...</td>\n",
       "      <td>SPEICHERSTICKS</td>\n",
       "      <td>VERBATIM</td>\n",
       "      <td>1</td>\n",
       "    </tr>\n",
       "    <tr>\n",
       "      <th>7994</th>\n",
       "      <td>64748667</td>\n",
       "      <td>USB MEMORY</td>\n",
       "      <td>USB 3.0 S25 32G MORADO USB 3.0 S25 32G MORADO</td>\n",
       "      <td>MEMORIAS USB __ 32 GB</td>\n",
       "      <td>LEXAR</td>\n",
       "      <td>1</td>\n",
       "    </tr>\n",
       "  </tbody>\n",
       "</table>\n",
       "<p>2000 rows × 6 columns</p>\n",
       "</div>"
      ],
      "text/plain": [
       "            id productgroup  \\\n",
       "1     16576864   USB MEMORY   \n",
       "2     26155618   USB MEMORY   \n",
       "5     64836708   USB MEMORY   \n",
       "10    66928405   USB MEMORY   \n",
       "15    48577002   USB MEMORY   \n",
       "...        ...          ...   \n",
       "7974  23773547   USB MEMORY   \n",
       "7979  66041697   USB MEMORY   \n",
       "7980  68200476   USB MEMORY   \n",
       "7985  23670982   USB MEMORY   \n",
       "7994  64748667   USB MEMORY   \n",
       "\n",
       "                                              main_text  \\\n",
       "1     LEEF IBRIDGE MOBILE SPEICHERERWEITERUNG FUER I...   \n",
       "2                        SANDISK 32GB ULTRA FIT USB 3.0   \n",
       "5             PNY 16GB LEGO USB FLASH DRIVE + LEGO BRIC   \n",
       "10    615634  FLASHPEN LAETA USB 2.0 8 GB 10MB FLASH...   \n",
       "15          VERBATIM STORE 'N' GO V3 16GB USB 3.0 STICK   \n",
       "...                                                 ...   \n",
       "7974                     0 USB-DRIVE 2.0 4GB BASIC LINE   \n",
       "7979  TREKSTOR USB-STICK CS 32GB SILVER WRITE PROTEC...   \n",
       "7980  FLASHDRIVE SANDISK CRUZER BLADE 32GB USB2 SPEE...   \n",
       "7985  STORE N STAY NANO USB 3.0 DRIV USB-STICK 3.0, ...   \n",
       "7994      USB 3.0 S25 32G MORADO USB 3.0 S25 32G MORADO   \n",
       "\n",
       "                                               add_text manufacturer  \\\n",
       "1              PC__1100COMPUTINGMEMORY__1110MEMORYCARDS         LEEF   \n",
       "2                                                 W1370          NaN   \n",
       "5                                   COMPONENT __ MEMORY          PNY   \n",
       "10    410107__HARTWAREN_MULTIMEDIA_OSS_FESTPLATTEN S...          NaN   \n",
       "15                                           USB-STICKS     VERBATIM   \n",
       "...                                                 ...          ...   \n",
       "7974                                               3007      INTENSO   \n",
       "7979  MULTIMEDIA/IT__0310 NOTEBOOKS/PC & PERIPHERIE_...     TREKSTOR   \n",
       "7980                                  39404_PAMIECI USB      SANDISK   \n",
       "7985                                     SPEICHERSTICKS     VERBATIM   \n",
       "7994                              MEMORIAS USB __ 32 GB        LEXAR   \n",
       "\n",
       "      product_id  \n",
       "1              1  \n",
       "2              1  \n",
       "5              1  \n",
       "10             1  \n",
       "15             1  \n",
       "...          ...  \n",
       "7974           1  \n",
       "7979           1  \n",
       "7980           1  \n",
       "7985           1  \n",
       "7994           1  \n",
       "\n",
       "[2000 rows x 6 columns]"
      ]
     },
     "execution_count": 10,
     "metadata": {},
     "output_type": "execute_result"
    }
   ],
   "source": [
    "df[df['productgroup'] == 'USB MEMORY']"
   ]
  },
  {
   "cell_type": "code",
   "execution_count": 11,
   "metadata": {
    "scrolled": true
   },
   "outputs": [
    {
     "data": {
      "text/plain": [
       "id              False\n",
       "productgroup    False\n",
       "main_text        True\n",
       "add_text        False\n",
       "manufacturer     True\n",
       "product_id      False\n",
       "dtype: bool"
      ]
     },
     "execution_count": 11,
     "metadata": {},
     "output_type": "execute_result"
    }
   ],
   "source": [
    "df.isna().any()"
   ]
  },
  {
   "cell_type": "code",
   "execution_count": 12,
   "metadata": {},
   "outputs": [
    {
     "name": "stdout",
     "output_type": "stream",
     "text": [
      "id        productgroup     main_text                                                               add_text    manufacturer   product_id\n",
      "21240364  USB MEMORY       Intenso Speicherstick Business Line, 16 GB, schwarz, 3511470  1 StÃ¼ck  UNASSIGNED  Intenso        1             1\n",
      "30000872  CONTACT LENSES   CLARITI MULTIFOCAL 6 PACK=6 LINSEN                                      UNASSIGNED  COOPER VISION  3             1\n",
      "46708951  WASHINGMACHINES  LAVAMAT L73476WVFL WASCHMASCHINE                                        UNASSIGNED  AEG            0             1\n",
      "46749953  USB MEMORY       TRANSMEMORY U401 64GB USB 2.0                                           UNASSIGNED  TOSHIBA        1             1\n",
      "46750020  WASHINGMACHINES  WML 61432 MEU WASCHAUTOMAT A++                                          UNASSIGNED  BEKO           0             1\n",
      "                                                                                                                                           ..\n",
      "25087149  WASHINGMACHINES  110 HGG WAM BEKO WMB 71643 PTE WEIÃŸ# B-WARE                            UNASSIGNED  BEKO           0             1\n",
      "25088000  WASHINGMACHINES  HGG WAM GORENJE WA 7840 WEIÃŸ                                           UNASSIGNED  GORENJE        0             1\n",
      "25089545  WASHINGMACHINES  110 HGG WAM GORENJE WA 6840 WEIÃŸ# B-WARE                               UNASSIGNED  GORENJE        0             1\n",
      "25089932  WASHINGMACHINES  HGG WAM AEG L74484WVFL LAVAMAT WEIÃŸ                                    UNASSIGNED  AEG            0             1\n",
      "63925892  USB MEMORY       SKT79221                                                                UNASSIGNED  UNBRANDED      1             1\n",
      "Length: 183, dtype: int64\n"
     ]
    }
   ],
   "source": [
    "nan_values = df[df['add_text'] == 'UNASSIGNED']\n",
    "\n",
    "print (nan_values.value_counts())"
   ]
  },
  {
   "cell_type": "code",
   "execution_count": 13,
   "metadata": {},
   "outputs": [
    {
     "name": "stdout",
     "output_type": "stream",
     "text": [
      "            id productgroup  \\\n",
      "117   29825170   USB MEMORY   \n",
      "1224  63432545   USB MEMORY   \n",
      "1984  36398343   USB MEMORY   \n",
      "3517  63437167   USB MEMORY   \n",
      "3949  48985055   USB MEMORY   \n",
      "6361  46657909   USB MEMORY   \n",
      "6401  46611102   USB MEMORY   \n",
      "7315  63925892   USB MEMORY   \n",
      "\n",
      "                                              main_text  \\\n",
      "117                                         USB S50 8GB   \n",
      "1224                                      USB P20 128GB   \n",
      "1984   TRANSCEND JETFLASH 700 USD STICK 8GB 3.0 SCHWARZ   \n",
      "3517                                       USB S45 16GB   \n",
      "3949  GENIE USB-STICK MINI COOPER S 12108__GENIE USB...   \n",
      "6361                    USB STICK VERBATIM V3 32GB GRAU   \n",
      "6401                 USB STICK VERBATIM SWIVEL 8GB BLAU   \n",
      "7315                                           SKT79221   \n",
      "\n",
      "                                               add_text manufacturer  \\\n",
      "117                                    USB-STICKS FLASH    UNBRANDED   \n",
      "1224                                   USB-STICKS FLASH    UNBRANDED   \n",
      "1984                                  SONDERBESCHAFFUNG    UNBRANDED   \n",
      "3517                                   USB-STICKS FLASH    UNBRANDED   \n",
      "3949  EDV-ZUBEHOR UND SOFTWARE__3__USB-STICKS UND ZU...    UNBRANDED   \n",
      "6361                                               1766    UNBRANDED   \n",
      "6401                                               1766    UNBRANDED   \n",
      "7315                                         UNASSIGNED    UNBRANDED   \n",
      "\n",
      "      product_id  \n",
      "117            1  \n",
      "1224           1  \n",
      "1984           1  \n",
      "3517           1  \n",
      "3949           1  \n",
      "6361           1  \n",
      "6401           1  \n",
      "7315           1  \n"
     ]
    }
   ],
   "source": [
    "nan_values = df[df['manufacturer'] == 'UNBRANDED']\n",
    "\n",
    "print (nan_values)"
   ]
  },
  {
   "cell_type": "code",
   "execution_count": 14,
   "metadata": {},
   "outputs": [
    {
     "data": {
      "text/plain": [
       "COOPER                                 343\n",
       "CIBA                                   243\n",
       "SIEMENS                                205\n",
       "MIELE                                  197\n",
       "B&L                                    181\n",
       "                                      ... \n",
       "GORENJE VERTRIEBS GMBH                   1\n",
       "TRANSIMEX SERVICE GMBH                   1\n",
       "VENTANA BEKLEIDUNGSFABRIKATION GMBH      1\n",
       "ACUVUENEU                                1\n",
       "I.ONIK                                   1\n",
       "Name: manufacturer, Length: 623, dtype: int64"
      ]
     },
     "execution_count": 14,
     "metadata": {},
     "output_type": "execute_result"
    }
   ],
   "source": [
    "df.manufacturer.value_counts()"
   ]
  },
  {
   "cell_type": "markdown",
   "metadata": {},
   "source": [
    "The \"manufacturer\" feature is a categorical feature. \"manufacturer\" has NAN values. We have to always handle NaN values. One simple way to handle NaN values would be to drop them. Well, it’s simple but not ideal. NaN values may have a lot of information in them, and you will lose it if you just drop these values. There might also be many situations where most of your data has NaN values, and thus, you cannot drop rows/samples with NaN values. Another way of handling NaN values is to treat them as a completely new category. Hence instead of removing these NaN we will replace these with a new category called \"UNKNOWN-BRAND\""
   ]
  },
  {
   "cell_type": "code",
   "execution_count": 15,
   "metadata": {},
   "outputs": [
    {
     "data": {
      "text/plain": [
       "UNKNOWN-BRAND                          1344\n",
       "COOPER                                  343\n",
       "CIBA                                    243\n",
       "SIEMENS                                 205\n",
       "MIELE                                   197\n",
       "                                       ... \n",
       "VENTANA BEKLEIDUNGSFABRIKATION GMBH       1\n",
       "ZUENDAPP                                  1\n",
       "DIVERSE HERSTELLER                        1\n",
       "REX BIKE                                  1\n",
       "ADAM ELEMENTS                             1\n",
       "Name: manufacturer, Length: 624, dtype: int64"
      ]
     },
     "execution_count": 15,
     "metadata": {},
     "output_type": "execute_result"
    }
   ],
   "source": [
    "df.manufacturer.fillna(\"UNKNOWN-BRAND\").value_counts()"
   ]
  },
  {
   "cell_type": "code",
   "execution_count": 16,
   "metadata": {},
   "outputs": [
    {
     "data": {
      "text/plain": [
       "WASCHVOLLAUTOMAT OMV510A+ OMV510A+|| EEK:A+, 1000 U/MIN, 5KG KAPAZITAET  5043487               85\n",
       "PROCLEAR TORIC6 STÜCKUNISEX                                                                    75\n",
       "AIR OPTIX FOR ASTIGM.6 STÜCKUNISEX                                                             74\n",
       "BIOFINITY TORIC 6ER BOX6 STÜCKUNISEX                                                           71\n",
       "SOFLENS TORIC6 STÜCKUNISEX                                                                     68\n",
       "                                                                                               ..\n",
       "CORRATEC MT CROSS BASE LADY DARK GREY MATT/LIME GREEN/WHITE                                     1\n",
       "SOFLENS MULTIFOCAL                                                                              1\n",
       "0 GO W 465 WEISS                                                                                1\n",
       "DAILIES AQUACOMFORT PLUS TAGESLINSEN WEICH, 30 STUECK / BC 8.7MM / DIA 14 / +3.25 DIOPTRIEN     1\n",
       "KINGSTON USB FLASH 16GB DTRG2 USB3.0                                                            1\n",
       "Name: main_text, Length: 6643, dtype: int64"
      ]
     },
     "execution_count": 16,
     "metadata": {},
     "output_type": "execute_result"
    }
   ],
   "source": [
    "df.main_text.value_counts()"
   ]
  },
  {
   "cell_type": "code",
   "execution_count": 17,
   "metadata": {},
   "outputs": [
    {
     "data": {
      "text/plain": [
       "WASCHVOLLAUTOMAT OMV510A+ OMV510A+|| EEK:A+, 1000 U/MIN, 5KG KAPAZITAET  5043487               85\n",
       "PROCLEAR TORIC6 STÜCKUNISEX                                                                    75\n",
       "AIR OPTIX FOR ASTIGM.6 STÜCKUNISEX                                                             74\n",
       "BIOFINITY TORIC 6ER BOX6 STÜCKUNISEX                                                           71\n",
       "SOFLENS TORIC6 STÜCKUNISEX                                                                     68\n",
       "                                                                                               ..\n",
       "CORRATEC MT CROSS BASE LADY DARK GREY MATT/LIME GREEN/WHITE                                     1\n",
       "SOFLENS MULTIFOCAL                                                                              1\n",
       "0 GO W 465 WEISS                                                                                1\n",
       "DAILIES AQUACOMFORT PLUS TAGESLINSEN WEICH, 30 STUECK / BC 8.7MM / DIA 14 / +3.25 DIOPTRIEN     1\n",
       "KINGSTON USB FLASH 16GB DTRG2 USB3.0                                                            1\n",
       "Name: main_text, Length: 6644, dtype: int64"
      ]
     },
     "execution_count": 17,
     "metadata": {},
     "output_type": "execute_result"
    }
   ],
   "source": [
    "df.main_text.fillna(\"NO DESCRIPTION AVAILABLE\").value_counts()"
   ]
  },
  {
   "cell_type": "code",
   "execution_count": 18,
   "metadata": {},
   "outputs": [],
   "source": [
    "# fill NaN values in columns \"main_text\" and \"manufacturer\"\n",
    "df.loc[:, \"main_text\"] = df.main_text.fillna(\"NO DESCRIPTION AVAILABLE\")\n",
    "df.loc[:, \"manufacturer\"] = df.manufacturer.fillna(\"UNKNOWN-BRAND\")"
   ]
  },
  {
   "cell_type": "markdown",
   "metadata": {},
   "source": [
    "The reason we are handling the NaN in this way is that if we decide to use these columns as features and if we get 'NaN' abd iur model uses this column in production and when the model or the project is live, you get a category in \"manufacturer\"\n",
    "column that is not present in train. You model pipeline, in this case, will throw an error and there is nothing that you can do about it. If this happens, then probably something is wrong with your pipeline in production. If this is expected, then you\n",
    "must modify your model pipeline and include a new category"
   ]
  },
  {
   "cell_type": "code",
   "execution_count": 19,
   "metadata": {},
   "outputs": [
    {
     "data": {
      "text/html": [
       "<div>\n",
       "<style scoped>\n",
       "    .dataframe tbody tr th:only-of-type {\n",
       "        vertical-align: middle;\n",
       "    }\n",
       "\n",
       "    .dataframe tbody tr th {\n",
       "        vertical-align: top;\n",
       "    }\n",
       "\n",
       "    .dataframe thead th {\n",
       "        text-align: right;\n",
       "    }\n",
       "</style>\n",
       "<table border=\"1\" class=\"dataframe\">\n",
       "  <thead>\n",
       "    <tr style=\"text-align: right;\">\n",
       "      <th></th>\n",
       "      <th>id</th>\n",
       "      <th>productgroup</th>\n",
       "      <th>main_text</th>\n",
       "      <th>add_text</th>\n",
       "      <th>manufacturer</th>\n",
       "      <th>product_id</th>\n",
       "    </tr>\n",
       "  </thead>\n",
       "  <tbody>\n",
       "    <tr>\n",
       "      <th>0</th>\n",
       "      <td>26229701</td>\n",
       "      <td>WASHINGMACHINES</td>\n",
       "      <td>WAQ284E25</td>\n",
       "      <td>WASCHMASCHINEN</td>\n",
       "      <td>BOSCH</td>\n",
       "      <td>0</td>\n",
       "    </tr>\n",
       "    <tr>\n",
       "      <th>1</th>\n",
       "      <td>16576864</td>\n",
       "      <td>USB MEMORY</td>\n",
       "      <td>LEEF IBRIDGE MOBILE SPEICHERERWEITERUNG FUER I...</td>\n",
       "      <td>PC__1100COMPUTINGMEMORY__1110MEMORYCARDS</td>\n",
       "      <td>LEEF</td>\n",
       "      <td>1</td>\n",
       "    </tr>\n",
       "    <tr>\n",
       "      <th>2</th>\n",
       "      <td>26155618</td>\n",
       "      <td>USB MEMORY</td>\n",
       "      <td>SANDISK 32GB ULTRA FIT USB 3.0</td>\n",
       "      <td>W1370</td>\n",
       "      <td>UNKNOWN-BRAND</td>\n",
       "      <td>1</td>\n",
       "    </tr>\n",
       "    <tr>\n",
       "      <th>3</th>\n",
       "      <td>25646138</td>\n",
       "      <td>BICYCLES</td>\n",
       "      <td>HOLLANDRAD DAMEN 28 ZOLL TUSSAUD 3-GAENGE RH 5...</td>\n",
       "      <td>FAHRRAEDER // SPORTFAHRRAEDER</td>\n",
       "      <td>SCHALOW &amp; KROH GMBH</td>\n",
       "      <td>2</td>\n",
       "    </tr>\n",
       "    <tr>\n",
       "      <th>4</th>\n",
       "      <td>19764614</td>\n",
       "      <td>BICYCLES</td>\n",
       "      <td>DAHON SPEED D7 SCHWARZ ? FALTRAD</td>\n",
       "      <td>SPORTS__30000WHEELED__30070BIKES</td>\n",
       "      <td>DAHON</td>\n",
       "      <td>2</td>\n",
       "    </tr>\n",
       "  </tbody>\n",
       "</table>\n",
       "</div>"
      ],
      "text/plain": [
       "         id     productgroup  \\\n",
       "0  26229701  WASHINGMACHINES   \n",
       "1  16576864       USB MEMORY   \n",
       "2  26155618       USB MEMORY   \n",
       "3  25646138         BICYCLES   \n",
       "4  19764614         BICYCLES   \n",
       "\n",
       "                                           main_text  \\\n",
       "0                                          WAQ284E25   \n",
       "1  LEEF IBRIDGE MOBILE SPEICHERERWEITERUNG FUER I...   \n",
       "2                     SANDISK 32GB ULTRA FIT USB 3.0   \n",
       "3  HOLLANDRAD DAMEN 28 ZOLL TUSSAUD 3-GAENGE RH 5...   \n",
       "4                   DAHON SPEED D7 SCHWARZ ? FALTRAD   \n",
       "\n",
       "                                   add_text         manufacturer  product_id  \n",
       "0                            WASCHMASCHINEN                BOSCH           0  \n",
       "1  PC__1100COMPUTINGMEMORY__1110MEMORYCARDS                 LEEF           1  \n",
       "2                                     W1370        UNKNOWN-BRAND           1  \n",
       "3             FAHRRAEDER // SPORTFAHRRAEDER  SCHALOW & KROH GMBH           2  \n",
       "4          SPORTS__30000WHEELED__30070BIKES                DAHON           2  "
      ]
     },
     "execution_count": 19,
     "metadata": {},
     "output_type": "execute_result"
    }
   ],
   "source": [
    "df.head()"
   ]
  },
  {
   "cell_type": "code",
   "execution_count": 20,
   "metadata": {},
   "outputs": [],
   "source": [
    "df['Product_description_length'] = df['main_text'].str.len()"
   ]
  },
  {
   "cell_type": "code",
   "execution_count": 21,
   "metadata": {},
   "outputs": [
    {
     "name": "stderr",
     "output_type": "stream",
     "text": [
      "C:\\Users\\Prajju\\Anaconda3\\lib\\site-packages\\seaborn\\distributions.py:2619: FutureWarning: `distplot` is a deprecated function and will be removed in a future version. Please adapt your code to use either `displot` (a figure-level function with similar flexibility) or `histplot` (an axes-level function for histograms).\n",
      "  warnings.warn(msg, FutureWarning)\n",
      "C:\\Users\\Prajju\\Anaconda3\\lib\\site-packages\\matplotlib\\cbook\\__init__.py:1377: FutureWarning: Support for multi-dimensional indexing (e.g. `obj[:, None]`) is deprecated and will be removed in a future version.  Convert to a numpy array before indexing instead.\n",
      "  x[:, None]\n",
      "C:\\Users\\Prajju\\Anaconda3\\lib\\site-packages\\matplotlib\\axes\\_base.py:237: FutureWarning: Support for multi-dimensional indexing (e.g. `obj[:, None]`) is deprecated and will be removed in a future version.  Convert to a numpy array before indexing instead.\n",
      "  x = x[:, np.newaxis]\n",
      "C:\\Users\\Prajju\\Anaconda3\\lib\\site-packages\\matplotlib\\axes\\_base.py:239: FutureWarning: Support for multi-dimensional indexing (e.g. `obj[:, None]`) is deprecated and will be removed in a future version.  Convert to a numpy array before indexing instead.\n",
      "  y = y[:, np.newaxis]\n"
     ]
    },
    {
     "data": {
      "image/png": "[encoded data removed]",
      "text/plain": [
       "<Figure size 921.6x432 with 1 Axes>"
      ]
     },
     "metadata": {
      "needs_background": "light"
     },
     "output_type": "display_data"
    }
   ],
   "source": [
    "plt.figure(figsize=(12.8,6))\n",
    "sns.distplot(df['Product_description_length']).set_title('Product_description length distribution');"
   ]
  },
  {
   "cell_type": "code",
   "execution_count": 22,
   "metadata": {},
   "outputs": [
    {
     "data": {
      "text/plain": [
       "count    8000.000000\n",
       "mean       48.753125\n",
       "std        50.666686\n",
       "min         3.000000\n",
       "25%        29.000000\n",
       "50%        39.000000\n",
       "75%        53.000000\n",
       "max      1542.000000\n",
       "Name: Product_description_length, dtype: float64"
      ]
     },
     "execution_count": 22,
     "metadata": {},
     "output_type": "execute_result"
    }
   ],
   "source": [
    "df['Product_description_length'].describe()"
   ]
  },
  {
   "cell_type": "code",
   "execution_count": 23,
   "metadata": {},
   "outputs": [],
   "source": [
    "quantile_95 = df['Product_description_length'].quantile(0.95)\n",
    "df_95 = df[df['Product_description_length'] < quantile_95]"
   ]
  },
  {
   "cell_type": "code",
   "execution_count": 24,
   "metadata": {},
   "outputs": [
    {
     "name": "stderr",
     "output_type": "stream",
     "text": [
      "C:\\Users\\Prajju\\Anaconda3\\lib\\site-packages\\seaborn\\distributions.py:2619: FutureWarning: `distplot` is a deprecated function and will be removed in a future version. Please adapt your code to use either `displot` (a figure-level function with similar flexibility) or `histplot` (an axes-level function for histograms).\n",
      "  warnings.warn(msg, FutureWarning)\n",
      "C:\\Users\\Prajju\\Anaconda3\\lib\\site-packages\\matplotlib\\cbook\\__init__.py:1377: FutureWarning: Support for multi-dimensional indexing (e.g. `obj[:, None]`) is deprecated and will be removed in a future version.  Convert to a numpy array before indexing instead.\n",
      "  x[:, None]\n",
      "C:\\Users\\Prajju\\Anaconda3\\lib\\site-packages\\matplotlib\\axes\\_base.py:237: FutureWarning: Support for multi-dimensional indexing (e.g. `obj[:, None]`) is deprecated and will be removed in a future version.  Convert to a numpy array before indexing instead.\n",
      "  x = x[:, np.newaxis]\n",
      "C:\\Users\\Prajju\\Anaconda3\\lib\\site-packages\\matplotlib\\axes\\_base.py:239: FutureWarning: Support for multi-dimensional indexing (e.g. `obj[:, None]`) is deprecated and will be removed in a future version.  Convert to a numpy array before indexing instead.\n",
      "  y = y[:, np.newaxis]\n"
     ]
    },
    {
     "data": {
      "image/png": "[encoded data removed]",
      "text/plain": [
       "<Figure size 921.6x432 with 1 Axes>"
      ]
     },
     "metadata": {
      "needs_background": "light"
     },
     "output_type": "display_data"
    }
   ],
   "source": [
    "plt.figure(figsize=(12.8,6))\n",
    "sns.distplot(df_95['Product_description_length']).set_title('Product_description length distribution');"
   ]
  },
  {
   "cell_type": "code",
   "execution_count": 25,
   "metadata": {},
   "outputs": [
    {
     "data": {
      "image/png": "[encoded data removed]",
      "text/plain": [
       "<Figure size 921.6x432 with 1 Axes>"
      ]
     },
     "metadata": {
      "needs_background": "light"
     },
     "output_type": "display_data"
    }
   ],
   "source": [
    "plt.figure(figsize=(12.8,6))\n",
    "sns.boxplot(data=df, x='productgroup', y='Product_description_length', width=.5);"
   ]
  },
  {
   "cell_type": "code",
   "execution_count": 26,
   "metadata": {},
   "outputs": [
    {
     "data": {
      "image/png": "[encoded data removed]",
      "text/plain": [
       "<Figure size 921.6x432 with 1 Axes>"
      ]
     },
     "metadata": {
      "needs_background": "light"
     },
     "output_type": "display_data"
    }
   ],
   "source": [
    "plt.figure(figsize=(12.8,6))\n",
    "sns.boxplot(data=df_95, x='productgroup', y='Product_description_length');"
   ]
  },
  {
   "cell_type": "markdown",
   "metadata": {},
   "source": [
    "We can see that, although the length distribution is different for every category, the difference is not too big. If we had way too different lengths between categories we would have a problem since the feature creation process may take into account counts of words. However, when creating the features with TF-IDF scoring, we will normalize the features just to avoid this.\n",
    "\n",
    "At this point, we cannot do further Exploratory Data Analysis. We'll turn onto the Feature Engineering section."
   ]
  },
  {
   "cell_type": "code",
   "execution_count": 27,
   "metadata": {},
   "outputs": [
    {
     "name": "stderr",
     "output_type": "stream",
     "text": [
      "C:\\Users\\Prajju\\Anaconda3\\lib\\site-packages\\seaborn\\distributions.py:2619: FutureWarning: `distplot` is a deprecated function and will be removed in a future version. Please adapt your code to use either `displot` (a figure-level function with similar flexibility) or `histplot` (an axes-level function for histograms).\n",
      "  warnings.warn(msg, FutureWarning)\n",
      "C:\\Users\\Prajju\\Anaconda3\\lib\\site-packages\\matplotlib\\cbook\\__init__.py:1377: FutureWarning: Support for multi-dimensional indexing (e.g. `obj[:, None]`) is deprecated and will be removed in a future version.  Convert to a numpy array before indexing instead.\n",
      "  x[:, None]\n",
      "C:\\Users\\Prajju\\Anaconda3\\lib\\site-packages\\matplotlib\\axes\\_base.py:237: FutureWarning: Support for multi-dimensional indexing (e.g. `obj[:, None]`) is deprecated and will be removed in a future version.  Convert to a numpy array before indexing instead.\n",
      "  x = x[:, np.newaxis]\n",
      "C:\\Users\\Prajju\\Anaconda3\\lib\\site-packages\\matplotlib\\axes\\_base.py:239: FutureWarning: Support for multi-dimensional indexing (e.g. `obj[:, None]`) is deprecated and will be removed in a future version.  Convert to a numpy array before indexing instead.\n",
      "  y = y[:, np.newaxis]\n"
     ]
    },
    {
     "data": {
      "image/png": "[encoded data removed]",
      "text/plain": [
       "<Figure size 921.6x432 with 1 Axes>"
      ]
     },
     "metadata": {
      "needs_background": "light"
     },
     "output_type": "display_data"
    }
   ],
   "source": [
    "df['Additional_Product_description_length'] = df['add_text'].str.len()\n",
    "plt.figure(figsize=(12.8,6))\n",
    "sns.distplot(df['Additional_Product_description_length']).set_title('Additional Product_description length distribution');"
   ]
  },
  {
   "cell_type": "code",
   "execution_count": 28,
   "metadata": {},
   "outputs": [],
   "source": [
    "quantile_95 = df['Additional_Product_description_length'].quantile(0.95)\n",
    "df_95 = df[df['Additional_Product_description_length'] < quantile_95]"
   ]
  },
  {
   "cell_type": "code",
   "execution_count": 29,
   "metadata": {},
   "outputs": [
    {
     "data": {
      "image/png": "[encoded data removed]",
      "text/plain": [
       "<Figure size 921.6x432 with 1 Axes>"
      ]
     },
     "metadata": {
      "needs_background": "light"
     },
     "output_type": "display_data"
    }
   ],
   "source": [
    "plt.figure(figsize=(12.8,6))\n",
    "sns.boxplot(data=df, x='productgroup', y='Additional_Product_description_length', width=.5);"
   ]
  },
  {
   "cell_type": "code",
   "execution_count": 30,
   "metadata": {},
   "outputs": [
    {
     "data": {
      "image/png": "[encoded data removed]",
      "text/plain": [
       "<Figure size 921.6x432 with 1 Axes>"
      ]
     },
     "metadata": {
      "needs_background": "light"
     },
     "output_type": "display_data"
    }
   ],
   "source": [
    "plt.figure(figsize=(12.8,6))\n",
    "sns.boxplot(data=df_95, x='productgroup', y='Additional_Product_description_length');"
   ]
  },
  {
   "cell_type": "markdown",
   "metadata": {},
   "source": [
    "We can see that, the length distribution is different for every category,\n",
    "the difference is not too big for thre classes but for one it's very huge. \n",
    "If we had way too different lengths between categories we would have a problem since \n",
    "the feature creation process may take into account counts of words. So what we can do is we can combine these features and \n",
    ", when creating the features with TF-IDF scoring, we will normalize the features just to avoid this.\n",
    "At this point, we cannot do further Exploratory Data Analysis. We'll turn onto the Feature Engineering section."
   ]
  },
  {
   "cell_type": "markdown",
   "metadata": {},
   "source": [
    "#### Check correlation between features"
   ]
  },
  {
   "cell_type": "code",
   "execution_count": 31,
   "metadata": {},
   "outputs": [
    {
     "data": {
      "image/png": "[encoded data removed]",
      "text/plain": [
       "<Figure size 432x288 with 2 Axes>"
      ]
     },
     "metadata": {
      "needs_background": "light"
     },
     "output_type": "display_data"
    }
   ],
   "source": [
    "corr = df.corr()\n",
    "fig = plt.figure()\n",
    "ax = fig.add_subplot(111)\n",
    "cax = ax.matshow(corr,cmap='coolwarm', vmin=-1, vmax=1)\n",
    "fig.colorbar(cax)\n",
    "ticks = np.arange(0,len(df.columns),1)\n",
    "ax.set_xticks(ticks)\n",
    "plt.xticks(rotation=90)\n",
    "ax.set_yticks(ticks)\n",
    "ax.set_xticklabels(df.columns)\n",
    "ax.set_yticklabels(df.columns)\n",
    "plt.show()"
   ]
  },
  {
   "cell_type": "markdown",
   "metadata": {},
   "source": [
    "In this problem, when there is no correlation between 2 variables (when correlation is 0 or near 0) the color is grey. The darkest red means there is a perfect positive correlation, while the darkest blue means there is a perfect negative correlation."
   ]
  },
  {
   "cell_type": "markdown",
   "metadata": {},
   "source": [
    "### Data preprocessing"
   ]
  },
  {
   "cell_type": "code",
   "execution_count": 32,
   "metadata": {},
   "outputs": [],
   "source": [
    "#Preprocessing the data from the columns\n",
    "def clean_text(s):\n",
    "    \"\"\"\n",
    "    This function cleans the text a bit\n",
    "    :param s: string\n",
    "    :return: cleaned string\n",
    "    \"\"\"\n",
    "    # split by all whitespaces\n",
    "    s = s.split()\n",
    "    # join tokens by single space\n",
    "    # why we do this?\n",
    "    # this will remove all kinds of weird space\n",
    "    s = \" \".join(s)\n",
    "    # remove all punctuations using regex and string module\n",
    "    s = re.sub(f'[{re.escape(string.punctuation)}]', ' ', s)\n",
    "    # you can add more cleaning here if you want \n",
    "    # and then return the cleaned string\n",
    "    return s"
   ]
  },
  {
   "cell_type": "code",
   "execution_count": 33,
   "metadata": {},
   "outputs": [],
   "source": [
    "df.loc[:, \"clean_main_text\"] = df.main_text.apply(clean_text)\n",
    "df.loc[:, \"clean_add_text\"] = df.add_text.apply(clean_text)"
   ]
  },
  {
   "cell_type": "markdown",
   "metadata": {},
   "source": [
    "### Feature Engineering"
   ]
  },
  {
   "cell_type": "code",
   "execution_count": 34,
   "metadata": {},
   "outputs": [],
   "source": [
    "# initialize LabelEncoder\n",
    "lbl_enc = preprocessing.LabelEncoder()\n",
    "# fit label encoder and transform values on ord_2 column\n",
    "# P.S: do not use this directly. fit first, then transform\n",
    "df.loc[:, \"manufacturer\"] = lbl_enc.fit_transform(df.manufacturer.values)"
   ]
  },
  {
   "cell_type": "code",
   "execution_count": 35,
   "metadata": {},
   "outputs": [
    {
     "data": {
      "text/html": [
       "<div>\n",
       "<style scoped>\n",
       "    .dataframe tbody tr th:only-of-type {\n",
       "        vertical-align: middle;\n",
       "    }\n",
       "\n",
       "    .dataframe tbody tr th {\n",
       "        vertical-align: top;\n",
       "    }\n",
       "\n",
       "    .dataframe thead th {\n",
       "        text-align: right;\n",
       "    }\n",
       "</style>\n",
       "<table border=\"1\" class=\"dataframe\">\n",
       "  <thead>\n",
       "    <tr style=\"text-align: right;\">\n",
       "      <th></th>\n",
       "      <th>id</th>\n",
       "      <th>productgroup</th>\n",
       "      <th>main_text</th>\n",
       "      <th>add_text</th>\n",
       "      <th>manufacturer</th>\n",
       "      <th>product_id</th>\n",
       "      <th>Product_description_length</th>\n",
       "      <th>Additional_Product_description_length</th>\n",
       "      <th>clean_main_text</th>\n",
       "      <th>clean_add_text</th>\n",
       "    </tr>\n",
       "  </thead>\n",
       "  <tbody>\n",
       "    <tr>\n",
       "      <th>0</th>\n",
       "      <td>26229701</td>\n",
       "      <td>WASHINGMACHINES</td>\n",
       "      <td>WAQ284E25</td>\n",
       "      <td>WASCHMASCHINEN</td>\n",
       "      <td>96</td>\n",
       "      <td>0</td>\n",
       "      <td>9</td>\n",
       "      <td>14</td>\n",
       "      <td>WAQ284E25</td>\n",
       "      <td>WASCHMASCHINEN</td>\n",
       "    </tr>\n",
       "    <tr>\n",
       "      <th>1</th>\n",
       "      <td>16576864</td>\n",
       "      <td>USB MEMORY</td>\n",
       "      <td>LEEF IBRIDGE MOBILE SPEICHERERWEITERUNG FUER I...</td>\n",
       "      <td>PC__1100COMPUTINGMEMORY__1110MEMORYCARDS</td>\n",
       "      <td>356</td>\n",
       "      <td>1</td>\n",
       "      <td>98</td>\n",
       "      <td>40</td>\n",
       "      <td>LEEF IBRIDGE MOBILE SPEICHERERWEITERUNG FUER I...</td>\n",
       "      <td>PC  1100COMPUTINGMEMORY  1110MEMORYCARDS</td>\n",
       "    </tr>\n",
       "    <tr>\n",
       "      <th>2</th>\n",
       "      <td>26155618</td>\n",
       "      <td>USB MEMORY</td>\n",
       "      <td>SANDISK 32GB ULTRA FIT USB 3.0</td>\n",
       "      <td>W1370</td>\n",
       "      <td>584</td>\n",
       "      <td>1</td>\n",
       "      <td>30</td>\n",
       "      <td>5</td>\n",
       "      <td>SANDISK 32GB ULTRA FIT USB 3 0</td>\n",
       "      <td>W1370</td>\n",
       "    </tr>\n",
       "    <tr>\n",
       "      <th>3</th>\n",
       "      <td>25646138</td>\n",
       "      <td>BICYCLES</td>\n",
       "      <td>HOLLANDRAD DAMEN 28 ZOLL TUSSAUD 3-GAENGE RH 5...</td>\n",
       "      <td>FAHRRAEDER // SPORTFAHRRAEDER</td>\n",
       "      <td>495</td>\n",
       "      <td>2</td>\n",
       "      <td>70</td>\n",
       "      <td>29</td>\n",
       "      <td>HOLLANDRAD DAMEN 28 ZOLL TUSSAUD 3 GAENGE RH 5...</td>\n",
       "      <td>FAHRRAEDER    SPORTFAHRRAEDER</td>\n",
       "    </tr>\n",
       "    <tr>\n",
       "      <th>4</th>\n",
       "      <td>19764614</td>\n",
       "      <td>BICYCLES</td>\n",
       "      <td>DAHON SPEED D7 SCHWARZ ? FALTRAD</td>\n",
       "      <td>SPORTS__30000WHEELED__30070BIKES</td>\n",
       "      <td>195</td>\n",
       "      <td>2</td>\n",
       "      <td>32</td>\n",
       "      <td>32</td>\n",
       "      <td>DAHON SPEED D7 SCHWARZ   FALTRAD</td>\n",
       "      <td>SPORTS  30000WHEELED  30070BIKES</td>\n",
       "    </tr>\n",
       "  </tbody>\n",
       "</table>\n",
       "</div>"
      ],
      "text/plain": [
       "         id     productgroup  \\\n",
       "0  26229701  WASHINGMACHINES   \n",
       "1  16576864       USB MEMORY   \n",
       "2  26155618       USB MEMORY   \n",
       "3  25646138         BICYCLES   \n",
       "4  19764614         BICYCLES   \n",
       "\n",
       "                                           main_text  \\\n",
       "0                                          WAQ284E25   \n",
       "1  LEEF IBRIDGE MOBILE SPEICHERERWEITERUNG FUER I...   \n",
       "2                     SANDISK 32GB ULTRA FIT USB 3.0   \n",
       "3  HOLLANDRAD DAMEN 28 ZOLL TUSSAUD 3-GAENGE RH 5...   \n",
       "4                   DAHON SPEED D7 SCHWARZ ? FALTRAD   \n",
       "\n",
       "                                   add_text  manufacturer  product_id  \\\n",
       "0                            WASCHMASCHINEN            96           0   \n",
       "1  PC__1100COMPUTINGMEMORY__1110MEMORYCARDS           356           1   \n",
       "2                                     W1370           584           1   \n",
       "3             FAHRRAEDER // SPORTFAHRRAEDER           495           2   \n",
       "4          SPORTS__30000WHEELED__30070BIKES           195           2   \n",
       "\n",
       "   Product_description_length  Additional_Product_description_length  \\\n",
       "0                           9                                     14   \n",
       "1                          98                                     40   \n",
       "2                          30                                      5   \n",
       "3                          70                                     29   \n",
       "4                          32                                     32   \n",
       "\n",
       "                                     clean_main_text  \\\n",
       "0                                          WAQ284E25   \n",
       "1  LEEF IBRIDGE MOBILE SPEICHERERWEITERUNG FUER I...   \n",
       "2                     SANDISK 32GB ULTRA FIT USB 3 0   \n",
       "3  HOLLANDRAD DAMEN 28 ZOLL TUSSAUD 3 GAENGE RH 5...   \n",
       "4                   DAHON SPEED D7 SCHWARZ   FALTRAD   \n",
       "\n",
       "                             clean_add_text  \n",
       "0                            WASCHMASCHINEN  \n",
       "1  PC  1100COMPUTINGMEMORY  1110MEMORYCARDS  \n",
       "2                                     W1370  \n",
       "3             FAHRRAEDER    SPORTFAHRRAEDER  \n",
       "4          SPORTS  30000WHEELED  30070BIKES  "
      ]
     },
     "execution_count": 35,
     "metadata": {},
     "output_type": "execute_result"
    }
   ],
   "source": [
    "df.head()"
   ]
  },
  {
   "cell_type": "code",
   "execution_count": 36,
   "metadata": {},
   "outputs": [
    {
     "data": {
      "text/plain": [
       "'LEEF IBRIDGE MOBILE SPEICHERERWEITERUNG FUER IPHONE, IPAD UND IPOD - MIT LIGHTNING UND USB, 128 GB'"
      ]
     },
     "execution_count": 36,
     "metadata": {},
     "output_type": "execute_result"
    }
   ],
   "source": [
    "df.loc[1]['main_text']"
   ]
  },
  {
   "cell_type": "code",
   "execution_count": 37,
   "metadata": {},
   "outputs": [],
   "source": [
    "#Merging the \"main_text\" and \"add_text\" since some times the \"main_text\" doesn't have any valid description\n",
    "df['new_feature'] = df.clean_main_text.astype(str) + \" \" + df.clean_add_text.astype(str)"
   ]
  },
  {
   "cell_type": "code",
   "execution_count": 38,
   "metadata": {},
   "outputs": [
    {
     "data": {
      "text/html": [
       "<div>\n",
       "<style scoped>\n",
       "    .dataframe tbody tr th:only-of-type {\n",
       "        vertical-align: middle;\n",
       "    }\n",
       "\n",
       "    .dataframe tbody tr th {\n",
       "        vertical-align: top;\n",
       "    }\n",
       "\n",
       "    .dataframe thead th {\n",
       "        text-align: right;\n",
       "    }\n",
       "</style>\n",
       "<table border=\"1\" class=\"dataframe\">\n",
       "  <thead>\n",
       "    <tr style=\"text-align: right;\">\n",
       "      <th></th>\n",
       "      <th>id</th>\n",
       "      <th>productgroup</th>\n",
       "      <th>main_text</th>\n",
       "      <th>add_text</th>\n",
       "      <th>manufacturer</th>\n",
       "      <th>product_id</th>\n",
       "      <th>Product_description_length</th>\n",
       "      <th>Additional_Product_description_length</th>\n",
       "      <th>clean_main_text</th>\n",
       "      <th>clean_add_text</th>\n",
       "      <th>new_feature</th>\n",
       "    </tr>\n",
       "  </thead>\n",
       "  <tbody>\n",
       "    <tr>\n",
       "      <th>0</th>\n",
       "      <td>26229701</td>\n",
       "      <td>WASHINGMACHINES</td>\n",
       "      <td>WAQ284E25</td>\n",
       "      <td>WASCHMASCHINEN</td>\n",
       "      <td>96</td>\n",
       "      <td>0</td>\n",
       "      <td>9</td>\n",
       "      <td>14</td>\n",
       "      <td>WAQ284E25</td>\n",
       "      <td>WASCHMASCHINEN</td>\n",
       "      <td>WAQ284E25 WASCHMASCHINEN</td>\n",
       "    </tr>\n",
       "    <tr>\n",
       "      <th>1</th>\n",
       "      <td>16576864</td>\n",
       "      <td>USB MEMORY</td>\n",
       "      <td>LEEF IBRIDGE MOBILE SPEICHERERWEITERUNG FUER I...</td>\n",
       "      <td>PC__1100COMPUTINGMEMORY__1110MEMORYCARDS</td>\n",
       "      <td>356</td>\n",
       "      <td>1</td>\n",
       "      <td>98</td>\n",
       "      <td>40</td>\n",
       "      <td>LEEF IBRIDGE MOBILE SPEICHERERWEITERUNG FUER I...</td>\n",
       "      <td>PC  1100COMPUTINGMEMORY  1110MEMORYCARDS</td>\n",
       "      <td>LEEF IBRIDGE MOBILE SPEICHERERWEITERUNG FUER I...</td>\n",
       "    </tr>\n",
       "    <tr>\n",
       "      <th>2</th>\n",
       "      <td>26155618</td>\n",
       "      <td>USB MEMORY</td>\n",
       "      <td>SANDISK 32GB ULTRA FIT USB 3.0</td>\n",
       "      <td>W1370</td>\n",
       "      <td>584</td>\n",
       "      <td>1</td>\n",
       "      <td>30</td>\n",
       "      <td>5</td>\n",
       "      <td>SANDISK 32GB ULTRA FIT USB 3 0</td>\n",
       "      <td>W1370</td>\n",
       "      <td>SANDISK 32GB ULTRA FIT USB 3 0 W1370</td>\n",
       "    </tr>\n",
       "    <tr>\n",
       "      <th>3</th>\n",
       "      <td>25646138</td>\n",
       "      <td>BICYCLES</td>\n",
       "      <td>HOLLANDRAD DAMEN 28 ZOLL TUSSAUD 3-GAENGE RH 5...</td>\n",
       "      <td>FAHRRAEDER // SPORTFAHRRAEDER</td>\n",
       "      <td>495</td>\n",
       "      <td>2</td>\n",
       "      <td>70</td>\n",
       "      <td>29</td>\n",
       "      <td>HOLLANDRAD DAMEN 28 ZOLL TUSSAUD 3 GAENGE RH 5...</td>\n",
       "      <td>FAHRRAEDER    SPORTFAHRRAEDER</td>\n",
       "      <td>HOLLANDRAD DAMEN 28 ZOLL TUSSAUD 3 GAENGE RH 5...</td>\n",
       "    </tr>\n",
       "    <tr>\n",
       "      <th>4</th>\n",
       "      <td>19764614</td>\n",
       "      <td>BICYCLES</td>\n",
       "      <td>DAHON SPEED D7 SCHWARZ ? FALTRAD</td>\n",
       "      <td>SPORTS__30000WHEELED__30070BIKES</td>\n",
       "      <td>195</td>\n",
       "      <td>2</td>\n",
       "      <td>32</td>\n",
       "      <td>32</td>\n",
       "      <td>DAHON SPEED D7 SCHWARZ   FALTRAD</td>\n",
       "      <td>SPORTS  30000WHEELED  30070BIKES</td>\n",
       "      <td>DAHON SPEED D7 SCHWARZ   FALTRAD SPORTS  30000...</td>\n",
       "    </tr>\n",
       "  </tbody>\n",
       "</table>\n",
       "</div>"
      ],
      "text/plain": [
       "         id     productgroup  \\\n",
       "0  26229701  WASHINGMACHINES   \n",
       "1  16576864       USB MEMORY   \n",
       "2  26155618       USB MEMORY   \n",
       "3  25646138         BICYCLES   \n",
       "4  19764614         BICYCLES   \n",
       "\n",
       "                                           main_text  \\\n",
       "0                                          WAQ284E25   \n",
       "1  LEEF IBRIDGE MOBILE SPEICHERERWEITERUNG FUER I...   \n",
       "2                     SANDISK 32GB ULTRA FIT USB 3.0   \n",
       "3  HOLLANDRAD DAMEN 28 ZOLL TUSSAUD 3-GAENGE RH 5...   \n",
       "4                   DAHON SPEED D7 SCHWARZ ? FALTRAD   \n",
       "\n",
       "                                   add_text  manufacturer  product_id  \\\n",
       "0                            WASCHMASCHINEN            96           0   \n",
       "1  PC__1100COMPUTINGMEMORY__1110MEMORYCARDS           356           1   \n",
       "2                                     W1370           584           1   \n",
       "3             FAHRRAEDER // SPORTFAHRRAEDER           495           2   \n",
       "4          SPORTS__30000WHEELED__30070BIKES           195           2   \n",
       "\n",
       "   Product_description_length  Additional_Product_description_length  \\\n",
       "0                           9                                     14   \n",
       "1                          98                                     40   \n",
       "2                          30                                      5   \n",
       "3                          70                                     29   \n",
       "4                          32                                     32   \n",
       "\n",
       "                                     clean_main_text  \\\n",
       "0                                          WAQ284E25   \n",
       "1  LEEF IBRIDGE MOBILE SPEICHERERWEITERUNG FUER I...   \n",
       "2                     SANDISK 32GB ULTRA FIT USB 3 0   \n",
       "3  HOLLANDRAD DAMEN 28 ZOLL TUSSAUD 3 GAENGE RH 5...   \n",
       "4                   DAHON SPEED D7 SCHWARZ   FALTRAD   \n",
       "\n",
       "                             clean_add_text  \\\n",
       "0                            WASCHMASCHINEN   \n",
       "1  PC  1100COMPUTINGMEMORY  1110MEMORYCARDS   \n",
       "2                                     W1370   \n",
       "3             FAHRRAEDER    SPORTFAHRRAEDER   \n",
       "4          SPORTS  30000WHEELED  30070BIKES   \n",
       "\n",
       "                                         new_feature  \n",
       "0                           WAQ284E25 WASCHMASCHINEN  \n",
       "1  LEEF IBRIDGE MOBILE SPEICHERERWEITERUNG FUER I...  \n",
       "2               SANDISK 32GB ULTRA FIT USB 3 0 W1370  \n",
       "3  HOLLANDRAD DAMEN 28 ZOLL TUSSAUD 3 GAENGE RH 5...  \n",
       "4  DAHON SPEED D7 SCHWARZ   FALTRAD SPORTS  30000...  "
      ]
     },
     "execution_count": 38,
     "metadata": {},
     "output_type": "execute_result"
    }
   ],
   "source": [
    "df.head()"
   ]
  },
  {
   "cell_type": "code",
   "execution_count": 39,
   "metadata": {},
   "outputs": [
    {
     "data": {
      "text/plain": [
       "'HOLLANDRAD DAMEN 28 ZOLL TUSSAUD 3-GAENGE RH 54 cm  SCHWARZ BELLEFLEUR'"
      ]
     },
     "execution_count": 39,
     "metadata": {},
     "output_type": "execute_result"
    }
   ],
   "source": [
    "df['main_text'][3]"
   ]
  },
  {
   "cell_type": "code",
   "execution_count": 40,
   "metadata": {},
   "outputs": [
    {
     "data": {
      "text/plain": [
       "'FAHRRAEDER // SPORTFAHRRAEDER'"
      ]
     },
     "execution_count": 40,
     "metadata": {},
     "output_type": "execute_result"
    }
   ],
   "source": [
    "df['add_text'][3]"
   ]
  },
  {
   "cell_type": "markdown",
   "metadata": {},
   "source": [
    "We have to check the distribution of labels in the dataset. This is the first step when approaching a machine learning problem: We should decide the metric!\n"
   ]
  },
  {
   "cell_type": "code",
   "execution_count": 41,
   "metadata": {},
   "outputs": [
    {
     "name": "stderr",
     "output_type": "stream",
     "text": [
      "C:\\Users\\Prajju\\Anaconda3\\lib\\site-packages\\seaborn\\_decorators.py:43: FutureWarning: Pass the following variable as a keyword arg: x. From version 0.12, the only valid positional argument will be `data`, and passing other arguments without an explicit keyword will result in an error or misinterpretation.\n",
      "  FutureWarning\n"
     ]
    },
    {
     "data": {
      "text/plain": [
       "<matplotlib.axes._subplots.AxesSubplot at 0x2254bcd9b70>"
      ]
     },
     "execution_count": 41,
     "metadata": {},
     "output_type": "execute_result"
    },
    {
     "data": {
      "image/png": "[encoded data removed]",
      "text/plain": [
       "<Figure size 864x360 with 1 Axes>"
      ]
     },
     "metadata": {
      "needs_background": "light"
     },
     "output_type": "display_data"
    }
   ],
   "source": [
    "plt.figure(figsize=(12,5))\n",
    "sns.countplot(df['product_id'])"
   ]
  },
  {
   "cell_type": "code",
   "execution_count": 42,
   "metadata": {},
   "outputs": [
    {
     "data": {
      "text/plain": [
       "0    2000\n",
       "1    2000\n",
       "2    2000\n",
       "3    2000\n",
       "Name: product_id, dtype: int64"
      ]
     },
     "execution_count": 42,
     "metadata": {},
     "output_type": "execute_result"
    }
   ],
   "source": [
    "df.product_id.value_counts()"
   ]
  },
  {
   "cell_type": "markdown",
   "metadata": {},
   "source": [
    "#### As we can see that the dataset is balanced we can use ``Accuracy`` as the metrics to measure the model performance"
   ]
  },
  {
   "cell_type": "code",
   "execution_count": 43,
   "metadata": {},
   "outputs": [],
   "source": [
    "#Splitting dataset\n",
    "X_train, X_test, y_train, y_test = train_test_split(df['new_feature'], df['product_id'], random_state = 0)"
   ]
  },
  {
   "cell_type": "markdown",
   "metadata": {},
   "source": [
    "## Using Count vectorizer"
   ]
  },
  {
   "cell_type": "code",
   "execution_count": 44,
   "metadata": {},
   "outputs": [],
   "source": [
    "count_vect = CountVectorizer()\n",
    "X_train_counts = count_vect.fit_transform(X_train)\n",
    "tfidf_transformer = TfidfTransformer()\n",
    "X_train_tfidf = tfidf_transformer.fit_transform(X_train_counts)"
   ]
  },
  {
   "cell_type": "code",
   "execution_count": 45,
   "metadata": {},
   "outputs": [],
   "source": [
    "clf = MultinomialNB().fit(X_train_tfidf, y_train)"
   ]
  },
  {
   "cell_type": "code",
   "execution_count": 46,
   "metadata": {},
   "outputs": [
    {
     "data": {
      "text/plain": [
       "'LEEF IBRIDGE WHITE 64GB USB 2 0 AUF LIGHTNING QUICKSHOPPING'"
      ]
     },
     "execution_count": 46,
     "metadata": {},
     "output_type": "execute_result"
    }
   ],
   "source": [
    "test_sample = X_test.to_list()\n",
    "test_sample[5]"
   ]
  },
  {
   "cell_type": "code",
   "execution_count": 47,
   "metadata": {},
   "outputs": [
    {
     "name": "stdout",
     "output_type": "stream",
     "text": [
      "[1]\n"
     ]
    }
   ],
   "source": [
    "#Predict class  based on item_description using MultinomialNB\n",
    "print(clf.predict(count_vect.transform([\"SLIDER USB 2.0 DRIVE 16GB SLIDER USB 2.0 DRIVE 16GB 16GB, USB 2.0, 10MB/SEC\"])))"
   ]
  },
  {
   "cell_type": "code",
   "execution_count": 48,
   "metadata": {},
   "outputs": [
    {
     "data": {
      "text/html": [
       "<div>\n",
       "<style scoped>\n",
       "    .dataframe tbody tr th:only-of-type {\n",
       "        vertical-align: middle;\n",
       "    }\n",
       "\n",
       "    .dataframe tbody tr th {\n",
       "        vertical-align: top;\n",
       "    }\n",
       "\n",
       "    .dataframe thead th {\n",
       "        text-align: right;\n",
       "    }\n",
       "</style>\n",
       "<table border=\"1\" class=\"dataframe\">\n",
       "  <thead>\n",
       "    <tr style=\"text-align: right;\">\n",
       "      <th></th>\n",
       "      <th>id</th>\n",
       "      <th>productgroup</th>\n",
       "      <th>main_text</th>\n",
       "      <th>add_text</th>\n",
       "      <th>manufacturer</th>\n",
       "      <th>product_id</th>\n",
       "      <th>Product_description_length</th>\n",
       "      <th>Additional_Product_description_length</th>\n",
       "      <th>clean_main_text</th>\n",
       "      <th>clean_add_text</th>\n",
       "      <th>new_feature</th>\n",
       "    </tr>\n",
       "  </thead>\n",
       "  <tbody>\n",
       "    <tr>\n",
       "      <th>156</th>\n",
       "      <td>16292628</td>\n",
       "      <td>CONTACT LENSES</td>\n",
       "      <td>MERALENS A0395 GREEN WEREWOLF KONTAKTLINSEN MI...</td>\n",
       "      <td>HEALTH&amp;PERSONALCARE__3100OPTICS__3104COLOUREDC...</td>\n",
       "      <td>386</td>\n",
       "      <td>3</td>\n",
       "      <td>112</td>\n",
       "      <td>58</td>\n",
       "      <td>MERALENS A0395 GREEN WEREWOLF KONTAKTLINSEN MI...</td>\n",
       "      <td>HEALTH PERSONALCARE  3100OPTICS  3104COLOUREDC...</td>\n",
       "      <td>MERALENS A0395 GREEN WEREWOLF KONTAKTLINSEN MI...</td>\n",
       "    </tr>\n",
       "  </tbody>\n",
       "</table>\n",
       "</div>"
      ],
      "text/plain": [
       "           id    productgroup  \\\n",
       "156  16292628  CONTACT LENSES   \n",
       "\n",
       "                                             main_text  \\\n",
       "156  MERALENS A0395 GREEN WEREWOLF KONTAKTLINSEN MI...   \n",
       "\n",
       "                                              add_text  manufacturer  \\\n",
       "156  HEALTH&PERSONALCARE__3100OPTICS__3104COLOUREDC...           386   \n",
       "\n",
       "     product_id  Product_description_length  \\\n",
       "156           3                         112   \n",
       "\n",
       "     Additional_Product_description_length  \\\n",
       "156                                     58   \n",
       "\n",
       "                                       clean_main_text  \\\n",
       "156  MERALENS A0395 GREEN WEREWOLF KONTAKTLINSEN MI...   \n",
       "\n",
       "                                        clean_add_text  \\\n",
       "156  HEALTH PERSONALCARE  3100OPTICS  3104COLOUREDC...   \n",
       "\n",
       "                                           new_feature  \n",
       "156  MERALENS A0395 GREEN WEREWOLF KONTAKTLINSEN MI...  "
      ]
     },
     "execution_count": 48,
     "metadata": {},
     "output_type": "execute_result"
    }
   ],
   "source": [
    "#check Actual class as per data\n",
    "df[df['main_text'] == \"MERALENS A0395 GREEN WEREWOLF KONTAKTLINSEN MIT PFLEGEMITTEL MIT BEHAELTER OHNE STAERKE, 1ER PACK (1 X 2 STUECK)\"]"
   ]
  },
  {
   "cell_type": "markdown",
   "metadata": {},
   "source": [
    "# Using TfIdF"
   ]
  },
  {
   "cell_type": "code",
   "execution_count": 49,
   "metadata": {},
   "outputs": [
    {
     "data": {
      "text/plain": [
       "(8000, 3562)"
      ]
     },
     "execution_count": 49,
     "metadata": {},
     "output_type": "execute_result"
    }
   ],
   "source": [
    "tfidf = TfidfVectorizer(sublinear_tf=True, min_df=5, norm='l2', encoding='latin-1', ngram_range=(1, 2), stop_words='english')\n",
    "\n",
    "features = tfidf.fit_transform(df.new_feature).toarray()\n",
    "labels = df.product_id\n",
    "features.shape"
   ]
  },
  {
   "cell_type": "code",
   "execution_count": 50,
   "metadata": {},
   "outputs": [],
   "source": [
    "#Save the features for future use\n",
    "# pickle.dump(tfidf.vocabulary_,open(\"feature.pkl\",\"wb\"))"
   ]
  },
  {
   "cell_type": "markdown",
   "metadata": {},
   "source": [
    "### Check if the unigram and bigram features correlate to the class and makes sense"
   ]
  },
  {
   "cell_type": "code",
   "execution_count": 51,
   "metadata": {},
   "outputs": [
    {
     "name": "stdout",
     "output_type": "stream",
     "text": [
      "# 'BICYCLES':\n",
      "  . Most correlated unigrams:\n",
      "       . fahrraeder\n",
      "       . cm\n",
      "  . Most correlated bigrams:\n",
      "       . fashion sport\n",
      "       . sport sport\n",
      "# 'CONTACT LENSES':\n",
      "  . Most correlated unigrams:\n",
      "       . stückunisex\n",
      "       . linsen\n",
      "  . Most correlated bigrams:\n",
      "       . toric6 stückunisex\n",
      "       . stückunisex linsen\n",
      "# 'USB MEMORY':\n",
      "  . Most correlated unigrams:\n",
      "       . stick\n",
      "       . usb\n",
      "  . Most correlated bigrams:\n",
      "       . usb sticks\n",
      "       . usb stick\n",
      "# 'WASHINGMACHINES':\n",
      "  . Most correlated unigrams:\n",
      "       . waschmaschinen\n",
      "       . waschmaschine\n",
      "  . Most correlated bigrams:\n",
      "       . waschmaschinen stand\n",
      "       . waschmaschine frontlader\n"
     ]
    }
   ],
   "source": [
    "N = 2\n",
    "for Product_Category, category_id in sorted(category_to_id.items()):\n",
    "    features_chi2 = chi2(features, labels == category_id)\n",
    "    indices = np.argsort(features_chi2[0])\n",
    "    feature_names = np.array(tfidf.get_feature_names())[indices]\n",
    "    unigrams = [v for v in feature_names if len(v.split(' ')) == 1]\n",
    "    bigrams = [v for v in feature_names if len(v.split(' ')) == 2]\n",
    "    print(\"# '{}':\".format(Product_Category))\n",
    "    print(\"  . Most correlated unigrams:\\n       . {}\".format('\\n       . '.join(unigrams[-N:])))\n",
    "    print(\"  . Most correlated bigrams:\\n       . {}\".format('\\n       . '.join(bigrams[-N:])))"
   ]
  },
  {
   "cell_type": "markdown",
   "metadata": {},
   "source": [
    "#### As we can see that unigrams and bigrams are correlated to the product category. We will no use TfidfVectorizer to finally build several models and draw conclusion out of it"
   ]
  },
  {
   "cell_type": "markdown",
   "metadata": {},
   "source": [
    "## Cross validation to determine which model works best on this dataset"
   ]
  },
  {
   "cell_type": "code",
   "execution_count": 52,
   "metadata": {},
   "outputs": [],
   "source": [
    "models = [\n",
    "    RandomForestClassifier(n_estimators=400, max_depth=3, random_state=0),\n",
    "    LinearSVC(),\n",
    "    MultinomialNB(),\n",
    "    LogisticRegression(random_state=0),\n",
    "]\n",
    "CV = 5\n",
    "cv_df = pd.DataFrame(index=range(CV * len(models)))\n",
    "entries = []\n",
    "for model in models:\n",
    "    model_name = model.__class__.__name__\n",
    "    accuracies = cross_val_score(model, features, labels, scoring='accuracy', cv=CV)\n",
    "    for fold_idx, accuracy in enumerate(accuracies):\n",
    "        entries.append((model_name, fold_idx, accuracy))\n",
    "cv_df = pd.DataFrame(entries, columns=['model_name', 'fold_idx', 'accuracy'])"
   ]
  },
  {
   "cell_type": "code",
   "execution_count": 53,
   "metadata": {},
   "outputs": [
    {
     "data": {
      "image/png": "[encoded data removed]",
      "text/plain": [
       "<Figure size 432x288 with 1 Axes>"
      ]
     },
     "metadata": {
      "needs_background": "light"
     },
     "output_type": "display_data"
    }
   ],
   "source": [
    "sns.boxplot(x='model_name', y='accuracy', data=cv_df)\n",
    "sns.stripplot(x='model_name', y='accuracy', data=cv_df, \n",
    "              size=8, jitter=True, edgecolor=\"gray\", linewidth=2)\n",
    "plt.show()"
   ]
  },
  {
   "cell_type": "code",
   "execution_count": 54,
   "metadata": {},
   "outputs": [
    {
     "data": {
      "text/html": [
       "<div>\n",
       "<style scoped>\n",
       "    .dataframe tbody tr th:only-of-type {\n",
       "        vertical-align: middle;\n",
       "    }\n",
       "\n",
       "    .dataframe tbody tr th {\n",
       "        vertical-align: top;\n",
       "    }\n",
       "\n",
       "    .dataframe thead th {\n",
       "        text-align: right;\n",
       "    }\n",
       "</style>\n",
       "<table border=\"1\" class=\"dataframe\">\n",
       "  <thead>\n",
       "    <tr style=\"text-align: right;\">\n",
       "      <th></th>\n",
       "      <th>Mean Accuracy</th>\n",
       "      <th>Standard deviation</th>\n",
       "    </tr>\n",
       "    <tr>\n",
       "      <th>model_name</th>\n",
       "      <th></th>\n",
       "      <th></th>\n",
       "    </tr>\n",
       "  </thead>\n",
       "  <tbody>\n",
       "    <tr>\n",
       "      <th>LinearSVC</th>\n",
       "      <td>0.998375</td>\n",
       "      <td>0.000839</td>\n",
       "    </tr>\n",
       "    <tr>\n",
       "      <th>LogisticRegression</th>\n",
       "      <td>0.997875</td>\n",
       "      <td>0.001135</td>\n",
       "    </tr>\n",
       "    <tr>\n",
       "      <th>MultinomialNB</th>\n",
       "      <td>0.997500</td>\n",
       "      <td>0.001822</td>\n",
       "    </tr>\n",
       "    <tr>\n",
       "      <th>RandomForestClassifier</th>\n",
       "      <td>0.952500</td>\n",
       "      <td>0.009980</td>\n",
       "    </tr>\n",
       "  </tbody>\n",
       "</table>\n",
       "</div>"
      ],
      "text/plain": [
       "                        Mean Accuracy  Standard deviation\n",
       "model_name                                               \n",
       "LinearSVC                    0.998375            0.000839\n",
       "LogisticRegression           0.997875            0.001135\n",
       "MultinomialNB                0.997500            0.001822\n",
       "RandomForestClassifier       0.952500            0.009980"
      ]
     },
     "execution_count": 54,
     "metadata": {},
     "output_type": "execute_result"
    }
   ],
   "source": [
    "mean_accuracy = cv_df.groupby('model_name').accuracy.mean()\n",
    "std_accuracy = cv_df.groupby('model_name').accuracy.std()\n",
    "\n",
    "acc = pd.concat([mean_accuracy, std_accuracy], axis= 1, \n",
    "          ignore_index=True)\n",
    "acc.columns = ['Mean Accuracy', 'Standard deviation']\n",
    "acc"
   ]
  },
  {
   "cell_type": "code",
   "execution_count": 55,
   "metadata": {},
   "outputs": [
    {
     "data": {
      "image/png": "[encoded data removed]",
      "text/plain": [
       "<Figure size 576x360 with 1 Axes>"
      ]
     },
     "metadata": {
      "needs_background": "light"
     },
     "output_type": "display_data"
    }
   ],
   "source": [
    "plt.figure(figsize=(8,5))\n",
    "sns.boxplot(x='model_name', y='accuracy', \n",
    "            data=cv_df, \n",
    "            color='lightblue', \n",
    "            showmeans=True)\n",
    "plt.title(\"MEAN ACCURACY (cv = 5)\\n\", size=14);"
   ]
  },
  {
   "cell_type": "markdown",
   "metadata": {},
   "source": [
    "#### From the above result we can see most of the models performed very good and we will choose the best model here which is LinearSVC"
   ]
  },
  {
   "cell_type": "code",
   "execution_count": 56,
   "metadata": {},
   "outputs": [],
   "source": [
    "#Using the best model LinearSVC\n",
    "model = LinearSVC()\n",
    "\n",
    "X_train, X_test, y_train, y_test, indices_train, indices_test = train_test_split(features, labels, df.index, test_size=0.33, random_state=0)\n",
    "model.fit(X_train, y_train)\n",
    "y_pred = model.predict(X_test)"
   ]
  },
  {
   "cell_type": "markdown",
   "metadata": {},
   "source": [
    "### Testing the model on a Random data from test"
   ]
  },
  {
   "cell_type": "code",
   "execution_count": 57,
   "metadata": {},
   "outputs": [
    {
     "name": "stdout",
     "output_type": "stream",
     "text": [
      "\"SLIDER USB 2.0 DRIVE 16GB SLIDER USB 2.0 DRIVE 16GB 16GB, USB 2.0, 10MB/SEC\"\n",
      "  - Predicted as: 'USB MEMORY'\n",
      "\n"
     ]
    }
   ],
   "source": [
    "texts = [\"SLIDER USB 2.0 DRIVE 16GB SLIDER USB 2.0 DRIVE 16GB 16GB, USB 2.0, 10MB/SEC\"]\n",
    "text_features = tfidf.transform(texts)\n",
    "predictions = model.predict(text_features)\n",
    "for text, predicted in zip(texts, predictions):\n",
    "    print('\"{}\"'.format(text))\n",
    "    print(\"  - Predicted as: '{}'\".format(id_to_category[predicted]))\n",
    "    print(\"\")"
   ]
  },
  {
   "cell_type": "code",
   "execution_count": 58,
   "metadata": {},
   "outputs": [
    {
     "name": "stdout",
     "output_type": "stream",
     "text": [
      "Accuracy=0.9977272727272727\n"
     ]
    }
   ],
   "source": [
    "# calculate & print accuracy\n",
    "accuracy = metrics.accuracy_score(y_test, y_pred)\n",
    "print(f\"Accuracy={accuracy}\")"
   ]
  },
  {
   "cell_type": "code",
   "execution_count": 59,
   "metadata": {},
   "outputs": [
    {
     "name": "stdout",
     "output_type": "stream",
     "text": [
      "              precision    recall  f1-score   support\n",
      "\n",
      "           0       1.00      1.00      1.00       684\n",
      "           1       1.00      1.00      1.00       650\n",
      "           2       1.00      1.00      1.00       632\n",
      "           3       1.00      1.00      1.00       674\n",
      "\n",
      "    accuracy                           1.00      2640\n",
      "   macro avg       1.00      1.00      1.00      2640\n",
      "weighted avg       1.00      1.00      1.00      2640\n",
      "\n"
     ]
    }
   ],
   "source": [
    "print(metrics.classification_report(y_test, y_pred))"
   ]
  },
  {
   "cell_type": "code",
   "execution_count": 60,
   "metadata": {},
   "outputs": [
    {
     "data": {
      "image/png": "[encoded data removed]",
      "text/plain": [
       "<Figure size 576x576 with 2 Axes>"
      ]
     },
     "metadata": {
      "needs_background": "light"
     },
     "output_type": "display_data"
    }
   ],
   "source": [
    "conf_mat = confusion_matrix(y_test, y_pred)\n",
    "fig, ax = plt.subplots(figsize=(8,8))\n",
    "sns.heatmap(conf_mat, annot=True, cmap=\"Blues\", fmt='d',\n",
    "            xticklabels=category_id_df.productgroup.values, \n",
    "            yticklabels=category_id_df.productgroup.values)\n",
    "plt.ylabel('Actual')\n",
    "plt.xlabel('Predicted')\n",
    "plt.title(\"CONFUSION MATRIX - LinearSVC\\n\", size=16);"
   ]
  },
  {
   "cell_type": "markdown",
   "metadata": {},
   "source": [
    "#### Finally, the confusion matrix looks good (clear diagonal that represents correct classifications)."
   ]
  },
  {
   "cell_type": "code",
   "execution_count": null,
   "metadata": {},
   "outputs": [],
   "source": []
  }
 ],
 "metadata": {
  "kernelspec": {
   "display_name": "Python 3 (ipykernel)",
   "language": "python",
   "name": "python3"
  },
  "language_info": {
   "codemirror_mode": {
    "name": "ipython",
    "version": 3
   },
   "file_extension": ".py",
   "mimetype": "text/x-python",
   "name": "python",
   "nbconvert_exporter": "python",
   "pygments_lexer": "ipython3",
   "version": "3.7.3"
  }
 },
 "nbformat": 4,
 "nbformat_minor": 2
}
